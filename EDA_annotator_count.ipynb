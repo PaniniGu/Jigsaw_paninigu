{
 "cells": [
  {
   "cell_type": "code",
   "execution_count": 1,
   "metadata": {},
   "outputs": [
    {
     "name": "stderr",
     "output_type": "stream",
     "text": [
      "F:\\Anaconda3\\lib\\site-packages\\numpy\\lib\\arraysetops.py:522: FutureWarning: elementwise comparison failed; returning scalar instead, but in the future will perform elementwise comparison\n",
      "  mask |= (ar1 == a)\n"
     ]
    },
    {
     "name": "stdout",
     "output_type": "stream",
     "text": [
      "总样本数：1804874\n",
      "toxicity_annotator_count不为空的样本数：1804874\n",
      "toxicity_annotator_count值等于0的样本数：0\n",
      "toxicity_annotator_count值大于0的样本数：1804874\n",
      "toxicity_annotator_count的最小值：3\n",
      "toxicity_annotator_count的平均值：8.784694111611115\n",
      "toxicity_annotator_count的中位数：4.0\n",
      "toxicity_annotator_count的75%分位数：6.0\n",
      "toxicity_annotator_count的85%分位数：10.0\n",
      "toxicity_annotator_count的最大值：4936\n",
      "toxicity_annotator_count的std：43.50086420238285\n"
     ]
    },
    {
     "data": {
      "image/png": "[encoded data removed]",
      "text/plain": [
       "<Figure size 432x288 with 1 Axes>"
      ]
     },
     "metadata": {
      "needs_background": "light"
     },
     "output_type": "display_data"
    }
   ],
   "source": [
    "import gc \n",
    "import os\n",
    "import pandas as pd\n",
    "from tqdm import tqdm\n",
    "import numpy as np \n",
    "import matplotlib.pyplot as plt\n",
    "%matplotlib inline\n",
    "\n",
    "tqdm.pandas()\n",
    "\n",
    "def read_data(fpath):\n",
    "    train = pd.read_csv(fpath, index_col='id')\n",
    "    return train\n",
    "\n",
    "def analysis(df, col_name):\n",
    "#     df = read_data(fpath)\n",
    "    \n",
    "    #分析df['severe_toxicity']\n",
    "    plt.figure()\n",
    "    plt.title('hist of ' + col_name)\n",
    "    plt.hist(df[col_name], bins=100)\n",
    "    \n",
    "    print(\"总样本数：{}\".format(len(df)))\n",
    "    print(col_name + \"不为空的样本数：{}\".format(df[col_name].count()))\n",
    "    num1 = len([i for i in df[col_name] if i == 0])\n",
    "    print(col_name + \"值等于0的样本数：{}\".format(num1))\n",
    "    print(col_name + \"值大于0的样本数：{}\".format(len(df) - num1))\n",
    "    \n",
    "    print(col_name + \"的最小值：{}\".format(df[col_name].min()))\n",
    "    print(col_name + \"的平均值：{}\".format(df[col_name].mean()))\n",
    "    print(col_name + \"的中位数：{}\".format(df[col_name].median()))\n",
    "    print(col_name + \"的75%分位数：{}\".format(np.percentile(df[col_name], 75)))\n",
    "    print(col_name + \"的85%分位数：{}\".format(np.percentile(df[col_name], 85)))\n",
    "    print(col_name + \"的最大值：{}\".format(df[col_name].max()))\n",
    "    print(col_name + \"的std：{}\".format(df[col_name].std()))\n",
    "    \n",
    "    #return df\n",
    "    \n",
    "train_file = 'input/train.csv'\n",
    "toxicity_annotator_count = 'toxicity_annotator_count'\n",
    "identity_annotator_count = 'identity_annotator_count'\n",
    "\n",
    "df = read_data(train_file)\n",
    "analysis(df, toxicity_annotator_count)"
   ]
  },
  {
   "cell_type": "code",
   "execution_count": 2,
   "metadata": {},
   "outputs": [
    {
     "name": "stdout",
     "output_type": "stream",
     "text": [
      "总样本数：1804874\n",
      "identity_annotator_count不为空的样本数：1804874\n",
      "identity_annotator_count值等于0的样本数：1399744\n",
      "identity_annotator_count值大于0的样本数：405130\n",
      "identity_annotator_count的最小值：0\n",
      "identity_annotator_count的平均值：1.439019011853459\n",
      "identity_annotator_count的中位数：0.0\n",
      "identity_annotator_count的75%分位数：0.0\n",
      "identity_annotator_count的85%分位数：4.0\n",
      "identity_annotator_count的最大值：1866\n",
      "identity_annotator_count的std：17.870405972389793\n"
     ]
    },
    {
     "data": {
      "image/png": "[encoded data removed]",
      "text/plain": [
       "<Figure size 432x288 with 1 Axes>"
      ]
     },
     "metadata": {
      "needs_background": "light"
     },
     "output_type": "display_data"
    }
   ],
   "source": [
    "analysis(df, identity_annotator_count)"
   ]
  },
  {
   "cell_type": "code",
   "execution_count": null,
   "metadata": {},
   "outputs": [],
   "source": []
  }
 ],
 "metadata": {
  "kernelspec": {
   "display_name": "Python 3",
   "language": "python",
   "name": "python3"
  },
  "language_info": {
   "codemirror_mode": {
    "name": "ipython",
    "version": 3
   },
   "file_extension": ".py",
   "mimetype": "text/x-python",
   "name": "python",
   "nbconvert_exporter": "python",
   "pygments_lexer": "ipython3",
   "version": "3.6.5"
  }
 },
 "nbformat": 4,
 "nbformat_minor": 2
}
