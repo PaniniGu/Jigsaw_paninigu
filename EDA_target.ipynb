{
 "cells": [
  {
   "cell_type": "code",
   "execution_count": 12,
   "metadata": {},
   "outputs": [
    {
     "name": "stdout",
     "output_type": "stream",
     "text": [
      "总样本数：1804874\n",
      "target不为空的样本数：1804874\n",
      "target值＜0.5的样本数：1660540\n",
      "target值≥0.5的样本数：144334\n",
      "target的最小值：0.0\n",
      "target的平均值：0.10301729306264126\n",
      "target的中位数：0.0\n",
      "target的75%分位数：0.16666666666666666\n",
      "target的85%分位数：0.2\n",
      "target的最大值：1.0\n",
      "target的std：0.1970757447908373\n"
     ]
    },
    {
     "data": {
      "image/png": "[encoded data removed]",
      "text/plain": [
       "<Figure size 432x288 with 1 Axes>"
      ]
     },
     "metadata": {
      "needs_background": "light"
     },
     "output_type": "display_data"
    }
   ],
   "source": [
    "import gc \n",
    "import os\n",
    "import pandas as pd\n",
    "from tqdm import tqdm\n",
    "import numpy as np \n",
    "import matplotlib.pyplot as plt\n",
    "%matplotlib inline\n",
    "\n",
    "tqdm.pandas()\n",
    "\n",
    "def read_data(fpath):\n",
    "    train = pd.read_csv(fpath, index_col='id')\n",
    "    return train\n",
    "\n",
    "def analysis(fpath):\n",
    "    df = read_data(fpath)\n",
    "    \n",
    "    #分析df['target']\n",
    "    plt.figure()\n",
    "    plt.title('hist of \\'target\\' ')\n",
    "    plt.hist(df['target'], bins=100)\n",
    "    \n",
    "    print(\"总样本数：{}\".format(len(df)))\n",
    "    print(\"target不为空的样本数：{}\".format(df['target'].count()))\n",
    "    num1 = len([i for i in df['target'] if  i >= 0.5])\n",
    "    print(\"target值＜0.5的样本数：{}\".format(len(df) - num1))\n",
    "    print(\"target值≥0.5的样本数：{}\".format(num1))\n",
    "    \n",
    "    print(\"target的最小值：{}\".format(df['target'].min()))\n",
    "    print(\"target的平均值：{}\".format(df['target'].mean()))\n",
    "    print(\"target的中位数：{}\".format(df['target'].median()))\n",
    "    print(\"target的75%分位数：{}\".format(np.percentile(df['target'], 75)))\n",
    "    print(\"target的85%分位数：{}\".format(np.percentile(df['target'], 85)))\n",
    "    print(\"target的最大值：{}\".format(df['target'].max()))\n",
    "    print(\"target的std：{}\".format(df['target'].std()))\n",
    "    \n",
    "    return df\n",
    "    \n",
    "train_file = 'input/train.csv'\n",
    "train = analysis(train_file)"
   ]
  },
  {
   "cell_type": "code",
   "execution_count": null,
   "metadata": {},
   "outputs": [],
   "source": []
  }
 ],
 "metadata": {
  "kernelspec": {
   "display_name": "Python 3",
   "language": "python",
   "name": "python3"
  },
  "language_info": {
   "codemirror_mode": {
    "name": "ipython",
    "version": 3
   },
   "file_extension": ".py",
   "mimetype": "text/x-python",
   "name": "python",
   "nbconvert_exporter": "python",
   "pygments_lexer": "ipython3",
   "version": "3.6.5"
  }
 },
 "nbformat": 4,
 "nbformat_minor": 2
}
