{
 "cells": [
  {
   "cell_type": "code",
   "execution_count": 1,
   "metadata": {},
   "outputs": [
    {
     "name": "stderr",
     "output_type": "stream",
     "text": [
      "F:\\Anaconda3\\lib\\site-packages\\numpy\\lib\\arraysetops.py:522: FutureWarning: elementwise comparison failed; returning scalar instead, but in the future will perform elementwise comparison\n",
      "  mask |= (ar1 == a)\n"
     ]
    },
    {
     "name": "stdout",
     "output_type": "stream",
     "text": [
      "1804874\n",
      "1\n",
      "1906\n",
      "297.2343266067327\n",
      "202.0\n",
      "269.1966399585827\n",
      "1\n",
      "51.276896337362054\n",
      "35.0\n",
      "317\n",
      "46.17810121836932\n"
     ]
    },
    {
     "data": {
      "image/png": "[encoded data removed]",
      "text/plain": [
       "<Figure size 432x288 with 1 Axes>"
      ]
     },
     "metadata": {
      "needs_background": "light"
     },
     "output_type": "display_data"
    },
    {
     "data": {
      "image/png": "[encoded data removed]",
      "text/plain": [
       "<Figure size 432x288 with 1 Axes>"
      ]
     },
     "metadata": {
      "needs_background": "light"
     },
     "output_type": "display_data"
    }
   ],
   "source": [
    "import gc \n",
    "import os\n",
    "import pandas as pd\n",
    "from tqdm import tqdm\n",
    "import numpy as np \n",
    "import matplotlib.pyplot as plt\n",
    "%matplotlib inline\n",
    "\n",
    "tqdm.pandas()\n",
    "\n",
    "def read_data(fpath):\n",
    "    train = pd.read_csv(fpath, index_col='id')\n",
    "    return train\n",
    "\n",
    "\n",
    "def get_comment_text(fpath):\n",
    "    df = read_data(fpath)\n",
    "\n",
    "    TEXT_COL = 'comment_text'\n",
    "    df[TEXT_COL].str.lower()\n",
    "    df[TEXT_COL] = df[TEXT_COL].astype(str)\n",
    "    \n",
    "    print(len(df))\n",
    "    \n",
    "    print(df[TEXT_COL].str.len().min())\n",
    "    print(df[TEXT_COL].str.len().max())\n",
    "    print(df[TEXT_COL].str.len().mean())\n",
    "    print(df[TEXT_COL].str.len().median())\n",
    "    print(df[TEXT_COL].str.len().std())\n",
    "    \n",
    "#     comment_list = [list(i) for i in train[TEXT_COL].str.split()]\n",
    "    comment_text_len = [len(ii) for ii in [list(i) for i in df[TEXT_COL].str.split()]]\n",
    "    print(np.min(comment_text_len))\n",
    "    print(np.mean(comment_text_len))\n",
    "    print(np.median(comment_text_len))\n",
    "    print(np.max(comment_text_len))\n",
    "    print(np.std(comment_text_len))\n",
    "    \n",
    "    plt.figure()\n",
    "    #plot\n",
    "    df[TEXT_COL].str.len().hist(bins=100)\n",
    "    plt.figure()\n",
    "    plt.hist(comment_text_len, bins=100)\n",
    "    \n",
    "    return df\n",
    "\n",
    "train = 'input/train.csv'\n",
    "train = get_comment_text(train)"
   ]
  },
  {
   "cell_type": "code",
   "execution_count": 4,
   "metadata": {},
   "outputs": [
    {
     "name": "stdout",
     "output_type": "stream",
     "text": [
      "97320\n",
      "1\n",
      "1971\n",
      "298.70879572544186\n",
      "204.0\n",
      "269.7694795575142\n",
      "1\n",
      "51.5816687217427\n",
      "35.0\n",
      "335\n",
      "46.33951162916133\n"
     ]
    },
    {
     "data": {
      "image/png": "[encoded data removed]",
      "text/plain": [
       "<Figure size 432x288 with 1 Axes>"
      ]
     },
     "metadata": {
      "needs_background": "light"
     },
     "output_type": "display_data"
    },
    {
     "data": {
      "image/png": "[encoded data removed]",
      "text/plain": [
       "<Figure size 432x288 with 1 Axes>"
      ]
     },
     "metadata": {
      "needs_background": "light"
     },
     "output_type": "display_data"
    }
   ],
   "source": [
    "del train\n",
    "test = 'input/test.csv'\n",
    "test = get_comment_text(test)"
   ]
  },
  {
   "cell_type": "code",
   "execution_count": 5,
   "metadata": {},
   "outputs": [
    {
     "data": {
      "text/html": [
       "<div>\n",
       "<style scoped>\n",
       "    .dataframe tbody tr th:only-of-type {\n",
       "        vertical-align: middle;\n",
       "    }\n",
       "\n",
       "    .dataframe tbody tr th {\n",
       "        vertical-align: top;\n",
       "    }\n",
       "\n",
       "    .dataframe thead th {\n",
       "        text-align: right;\n",
       "    }\n",
       "</style>\n",
       "<table border=\"1\" class=\"dataframe\">\n",
       "  <thead>\n",
       "    <tr style=\"text-align: right;\">\n",
       "      <th></th>\n",
       "      <th>comment_text</th>\n",
       "    </tr>\n",
       "    <tr>\n",
       "      <th>id</th>\n",
       "      <th></th>\n",
       "    </tr>\n",
       "  </thead>\n",
       "  <tbody>\n",
       "    <tr>\n",
       "      <th>7000000</th>\n",
       "      <td>Jeff Sessions is another one of Trump's Orwell...</td>\n",
       "    </tr>\n",
       "    <tr>\n",
       "      <th>7000001</th>\n",
       "      <td>I actually inspected the infrastructure on Gra...</td>\n",
       "    </tr>\n",
       "    <tr>\n",
       "      <th>7000002</th>\n",
       "      <td>No it won't . That's just wishful thinking on ...</td>\n",
       "    </tr>\n",
       "    <tr>\n",
       "      <th>7000003</th>\n",
       "      <td>Instead of wringing our hands and nibbling the...</td>\n",
       "    </tr>\n",
       "    <tr>\n",
       "      <th>7000004</th>\n",
       "      <td>how many of you commenters have garbage piled ...</td>\n",
       "    </tr>\n",
       "  </tbody>\n",
       "</table>\n",
       "</div>"
      ],
      "text/plain": [
       "                                              comment_text\n",
       "id                                                        \n",
       "7000000  Jeff Sessions is another one of Trump's Orwell...\n",
       "7000001  I actually inspected the infrastructure on Gra...\n",
       "7000002  No it won't . That's just wishful thinking on ...\n",
       "7000003  Instead of wringing our hands and nibbling the...\n",
       "7000004  how many of you commenters have garbage piled ..."
      ]
     },
     "execution_count": 5,
     "metadata": {},
     "output_type": "execute_result"
    }
   ],
   "source": [
    "test.head()"
   ]
  },
  {
   "cell_type": "code",
   "execution_count": null,
   "metadata": {},
   "outputs": [],
   "source": []
  }
 ],
 "metadata": {
  "kernelspec": {
   "display_name": "Python 3",
   "language": "python",
   "name": "python3"
  },
  "language_info": {
   "codemirror_mode": {
    "name": "ipython",
    "version": 3
   },
   "file_extension": ".py",
   "mimetype": "text/x-python",
   "name": "python",
   "nbconvert_exporter": "python",
   "pygments_lexer": "ipython3",
   "version": "3.6.5"
  }
 },
 "nbformat": 4,
 "nbformat_minor": 2
}
